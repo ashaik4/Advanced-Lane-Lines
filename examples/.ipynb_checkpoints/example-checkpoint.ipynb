{
 "cells": [
  {
   "cell_type": "markdown",
   "metadata": {},
   "source": [
    "## Advanced Lane Finding Project\n",
    "\n",
    "The goals / steps of this project are the following:\n",
    "\n",
    "* Compute the camera calibration matrix and distortion coefficients given a set of chessboard images.\n",
    "* Apply a distortion correction to raw images.\n",
    "* Use color transforms, gradients, etc., to create a thresholded binary image.\n",
    "* Apply a perspective transform to rectify binary image (\"birds-eye view\").\n",
    "* Detect lane pixels and fit to find the lane boundary.\n",
    "* Determine the curvature of the lane and vehicle position with respect to center.\n",
    "* Warp the detected lane boundaries back onto the original image.\n",
    "* Output visual display of the lane boundaries and numerical estimation of lane curvature and vehicle position.\n",
    "\n",
    "---\n",
    "## First, I'll compute the camera calibration using chessboard images"
   ]
  },
  {
   "cell_type": "code",
   "execution_count": 52,
   "metadata": {},
   "outputs": [
    {
     "name": "stdout",
     "output_type": "stream",
     "text": [
      "[[ 0.  0.  0.]\n",
      " [ 1.  0.  0.]\n",
      " [ 2.  0.  0.]\n",
      " [ 3.  0.  0.]\n",
      " [ 4.  0.  0.]\n",
      " [ 5.  0.  0.]\n",
      " [ 6.  0.  0.]\n",
      " [ 7.  0.  0.]\n",
      " [ 8.  0.  0.]\n",
      " [ 0.  1.  0.]\n",
      " [ 1.  1.  0.]\n",
      " [ 2.  1.  0.]\n",
      " [ 3.  1.  0.]\n",
      " [ 4.  1.  0.]\n",
      " [ 5.  1.  0.]\n",
      " [ 6.  1.  0.]\n",
      " [ 7.  1.  0.]\n",
      " [ 8.  1.  0.]\n",
      " [ 0.  2.  0.]\n",
      " [ 1.  2.  0.]\n",
      " [ 2.  2.  0.]\n",
      " [ 3.  2.  0.]\n",
      " [ 4.  2.  0.]\n",
      " [ 5.  2.  0.]\n",
      " [ 6.  2.  0.]\n",
      " [ 7.  2.  0.]\n",
      " [ 8.  2.  0.]\n",
      " [ 0.  3.  0.]\n",
      " [ 1.  3.  0.]\n",
      " [ 2.  3.  0.]\n",
      " [ 3.  3.  0.]\n",
      " [ 4.  3.  0.]\n",
      " [ 5.  3.  0.]\n",
      " [ 6.  3.  0.]\n",
      " [ 7.  3.  0.]\n",
      " [ 8.  3.  0.]\n",
      " [ 0.  4.  0.]\n",
      " [ 1.  4.  0.]\n",
      " [ 2.  4.  0.]\n",
      " [ 3.  4.  0.]\n",
      " [ 4.  4.  0.]\n",
      " [ 5.  4.  0.]\n",
      " [ 6.  4.  0.]\n",
      " [ 7.  4.  0.]\n",
      " [ 8.  4.  0.]\n",
      " [ 0.  5.  0.]\n",
      " [ 1.  5.  0.]\n",
      " [ 2.  5.  0.]\n",
      " [ 3.  5.  0.]\n",
      " [ 4.  5.  0.]\n",
      " [ 5.  5.  0.]\n",
      " [ 6.  5.  0.]\n",
      " [ 7.  5.  0.]\n",
      " [ 8.  5.  0.]]\n"
     ]
    }
   ],
   "source": [
    "import numpy as np\n",
    "import cv2\n",
    "import glob\n",
    "import matplotlib.pyplot as plt\n",
    "import os \n",
    "\n",
    "%matplotlib qt\n",
    "\n",
    "# prepare object points, like (0,0,0), (1,0,0), (2,0,0) ....,(6,5,0)\n",
    "objp = np.zeros((6*9,3), np.float32)\n",
    "objp[:,:2] = np.mgrid[0:9,0:6].T.reshape(-1,2)\n",
    "print(objp)\n",
    "# Arrays to store object points and image points from all the images.\n",
    "objpoints = [] # 3d points in real world space\n",
    "imgpoints = [] # 2d points in image plane.\n",
    "\n",
    "# Make a list of calibration images\n",
    "images = glob.glob('../camera_cal/calibration*.jpg')\n",
    "\n",
    "# Step through the list and search for chessboard corners\n",
    "def undistort(image, objpoints, imgpoints):\n",
    "    ret, mtx, dist, rvecs, tvecs = cv2.calibrateCamera(objpoints, imgpoints, gray.shape[::-1],None, None)\n",
    "    dst = cv2.undistort(img, mtx, dist, None, mtx)\n",
    "    return dst\n",
    "for fname in images:\n",
    "    img = cv2.imread(fname)\n",
    "    gray = cv2.cvtColor(img,cv2.COLOR_BGR2GRAY)\n",
    "\n",
    "    # Find the chessboard corners\n",
    "    ret, corners = cv2.findChessboardCorners(gray, (9,6),None)\n",
    "\n",
    "    # If found, add object points, image points\n",
    "    if ret == True:\n",
    "        objpoints.append(objp)\n",
    "        imgpoints.append(corners)\n",
    "        \n",
    "\n",
    "        # Draw and display the corners\n",
    "        img = cv2.drawChessboardCorners(img, (9,6), corners, ret)\n",
    "        \n",
    "        cv2.imshow('img',img)\n",
    "        \n",
    "        cv2.waitKey(500)\n",
    "\n",
    "\n",
    "cv2.destroyAllWindows()"
   ]
  },
  {
   "cell_type": "markdown",
   "metadata": {},
   "source": [
    "## And so on and so forth..."
   ]
  },
  {
   "cell_type": "markdown",
   "metadata": {},
   "source": [
    "# Distortion Correction "
   ]
  },
  {
   "cell_type": "code",
   "execution_count": null,
   "metadata": {
    "collapsed": true
   },
   "outputs": [],
   "source": []
  },
  {
   "cell_type": "markdown",
   "metadata": {
    "collapsed": true
   },
   "source": [
    "# Color and Gradient \n"
   ]
  },
  {
   "cell_type": "code",
   "execution_count": 47,
   "metadata": {},
   "outputs": [
    {
     "data": {
      "text/plain": [
       "<matplotlib.image.AxesImage at 0x13421aa20>"
      ]
     },
     "execution_count": 47,
     "metadata": {},
     "output_type": "execute_result"
    },
    {
     "data": {
      "image/png": "[encoded data removed]",
      "text/plain": [
       "<matplotlib.figure.Figure at 0x1317ab198>"
      ]
     },
     "metadata": {},
     "output_type": "display_data"
    }
   ],
   "source": [
    "import matplotlib.pyplot as plt\n",
    "import matplotlib.image as mpimg\n",
    "import numpy as np \n",
    "%matplotlib inline\n",
    "\n",
    "img = mpimg.imread('../test_images/straight_lines1.jpg')\n",
    "\n",
    "hls = cv2.cvtColor(img, cv2.COLOR_RGB2HLS)\n",
    "hsv = cv2.cvtColor(img, cv2.COLOR_RGB2HLS).astype(np.float)\n",
    "s_channel = hsv[:,:,2]\n",
    "l_channel = hsv[:,:,1]\n",
    "# Grayscale image\n",
    "# NOTE: we already saw that standard grayscaling lost color information for the lane lines\n",
    "# Explore gradients in other colors spaces / color channels to see what might work better\n",
    "gray = cv2.cvtColor(img, cv2.COLOR_RGB2GRAY)\n",
    "\n",
    "# Sobel x\n",
    "sobelx = cv2.Sobel(l_channel, cv2.CV_64F, 1, 0) # Take the derivative in x\n",
    "abs_sobelx = np.absolute(sobelx) # Absolute x derivative to accentuate lines away from horizontal\n",
    "scaled_sobel = np.uint8(255*abs_sobelx/np.max(abs_sobelx))\n",
    "\n",
    "# Threshold x gradient\n",
    "thresh_min = 20\n",
    "thresh_max = 100\n",
    "sxbinary = np.zeros_like(scaled_sobel)\n",
    "sxbinary[(scaled_sobel >= thresh_min) & (scaled_sobel <= thresh_max)] = 1\n",
    "\n",
    "\n",
    "# Threshold color channel\n",
    "s_thresh_min = 170\n",
    "s_thresh_max = 255\n",
    "s_binary = np.zeros_like(s_channel)\n",
    "s_binary[(s_channel >= s_thresh_min) & (s_channel <= s_thresh_max)] = 1\n",
    "\n",
    "# Stack each channel to view their individual contributions in green and blue respectively\n",
    "# This returns a stack of the two binary images, whose components you can see as different colors\n",
    "color_binary = np.dstack(( np.zeros_like(sxbinary), sxbinary, s_binary))\n",
    "\n",
    "# Combine the two binary thresholds\n",
    "combined_binary = np.zeros_like(sxbinary)\n",
    "combined_binary[(s_binary == 1) | (sxbinary == 1)] = 1\n",
    "\n",
    "# Plotting thresholded images\n",
    "f, (ax1, ax2) = plt.subplots(1, 2, figsize=(20,10))\n",
    "ax1.set_title('Stacked thresholds')\n",
    "ax1.imshow(color_binary)\n",
    "\n",
    "ax2.set_title('Combined S channel and gradient thresholds')\n",
    "ax2.imshow(combined_binary, cmap='gray')\n"
   ]
  },
  {
   "cell_type": "code",
   "execution_count": null,
   "metadata": {
    "collapsed": true
   },
   "outputs": [],
   "source": []
  }
 ],
 "metadata": {
  "anaconda-cloud": {},
  "kernelspec": {
   "display_name": "Python 3",
   "language": "python",
   "name": "python3"
  },
  "language_info": {
   "codemirror_mode": {
    "name": "ipython",
    "version": 3
   },
   "file_extension": ".py",
   "mimetype": "text/x-python",
   "name": "python",
   "nbconvert_exporter": "python",
   "pygments_lexer": "ipython3",
   "version": "3.5.2"
  },
  "widgets": {
   "state": {},
   "version": "1.1.2"
  }
 },
 "nbformat": 4,
 "nbformat_minor": 1
}
